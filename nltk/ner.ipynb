{
 "cells": [
  {
   "cell_type": "markdown",
   "id": "dd687c87-066e-4bfa-b747-eb92ea7bd23b",
   "metadata": {},
   "source": [
    "# Named Entity Recognition\n",
    "NER seeks to locate and classify the named entities into pre defined categories such as name, location and organizations. It is the first step of information extraction."
   ]
  },
  {
   "cell_type": "code",
   "execution_count": 1,
   "id": "b109741f-3257-4294-837b-821582617107",
   "metadata": {},
   "outputs": [],
   "source": [
    "import nltk"
   ]
  },
  {
   "cell_type": "code",
   "execution_count": 2,
   "id": "6f592886-b56b-4fb2-943c-b1d87f43d557",
   "metadata": {},
   "outputs": [
    {
     "name": "stderr",
     "output_type": "stream",
     "text": [
      "[nltk_data] Downloading package maxent_ne_chunker to\n",
      "[nltk_data]     /home/swapnil/nltk_data...\n",
      "[nltk_data]   Unzipping chunkers/maxent_ne_chunker.zip.\n",
      "[nltk_data] Downloading package words to /home/swapnil/nltk_data...\n",
      "[nltk_data]   Unzipping corpora/words.zip.\n"
     ]
    },
    {
     "data": {
      "text/plain": [
       "True"
      ]
     },
     "execution_count": 2,
     "metadata": {},
     "output_type": "execute_result"
    }
   ],
   "source": [
    "nltk.download(\"maxent_ne_chunker\")\n",
    "nltk.download(\"words\")"
   ]
  },
  {
   "cell_type": "code",
   "execution_count": 23,
   "id": "0eb2d89d-d719-4e18-8e46-a249a1449c3b",
   "metadata": {},
   "outputs": [],
   "source": [
    "text = \"People like Andrej Karpathy and Ilya Sutskever are inspiration to all programmers.\""
   ]
  },
  {
   "cell_type": "code",
   "execution_count": 24,
   "id": "46ad048a-a387-4026-bcda-a9f33067c17e",
   "metadata": {},
   "outputs": [
    {
     "name": "stdout",
     "output_type": "stream",
     "text": [
      "GPE Andrej\n",
      "GPE Karpathy\n",
      "GPE Ilya\n",
      "GPE Sutskever\n"
     ]
    }
   ],
   "source": [
    "for word in nltk.word_tokenize(text):\n",
    "    for chunk in nltk.ne_chunk(nltk.pos_tag(nltk.word_tokenize(word))):\n",
    "        if hasattr(chunk, \"label\"):\n",
    "            print(chunk.label(), \" \".join(c[0] for c in chunk))"
   ]
  }
 ],
 "metadata": {
  "kernelspec": {
   "display_name": "Data Science",
   "language": "python",
   "name": "data_science"
  },
  "language_info": {
   "codemirror_mode": {
    "name": "ipython",
    "version": 3
   },
   "file_extension": ".py",
   "mimetype": "text/x-python",
   "name": "python",
   "nbconvert_exporter": "python",
   "pygments_lexer": "ipython3",
   "version": "3.11.3"
  }
 },
 "nbformat": 4,
 "nbformat_minor": 5
}

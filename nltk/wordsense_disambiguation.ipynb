{
 "cells": [
  {
   "cell_type": "markdown",
   "id": "b427a82b-1842-4739-bb37-0ad7f03d91c7",
   "metadata": {},
   "source": [
    "# word sense disambiguation\n",
    "Word Sense Disambiguation is a method by which meaning of word is determined from the context in which it is used.\n",
    "- Let's go to the townside **bar**.\n",
    "- Everyone is trying to raise the **bar**.\n",
    "- The **bar** will have the final say in this matter.\n",
    "\n",
    "## Lesk Algorithm\n",
    "- Words in a region will have a similar meaning."
   ]
  },
  {
   "cell_type": "code",
   "execution_count": 1,
   "id": "0bc110d4-e6e8-4a39-972c-6b8291bb01ab",
   "metadata": {},
   "outputs": [],
   "source": [
    "from nltk.wsd import lesk\n",
    "from nltk.tokenize import word_tokenize"
   ]
  },
  {
   "cell_type": "code",
   "execution_count": 7,
   "id": "be228f9d-ae97-4eac-92ef-067e2f6bb24e",
   "metadata": {},
   "outputs": [
    {
     "name": "stdout",
     "output_type": "stream",
     "text": [
      "Synset('star.v.02') be the star in a performance\n",
      "Synset('star.n.03') any celestial body visible (as a point of light) from the Earth at night\n"
     ]
    }
   ],
   "source": [
    "a1 = lesk(word_tokenize(\"He always wanted to be a movie star.”\"), \"star\")\n",
    "a2 = lesk(word_tokenize(\"There are many stars visible during night.\"), \"stars\")\n",
    "print(a1, a1.definition())\n",
    "print(a2, a2.definition())"
   ]
  }
 ],
 "metadata": {
  "kernelspec": {
   "display_name": "Data Science",
   "language": "python",
   "name": "data_science"
  },
  "language_info": {
   "codemirror_mode": {
    "name": "ipython",
    "version": 3
   },
   "file_extension": ".py",
   "mimetype": "text/x-python",
   "name": "python",
   "nbconvert_exporter": "python",
   "pygments_lexer": "ipython3",
   "version": "3.11.3"
  }
 },
 "nbformat": 4,
 "nbformat_minor": 5
}

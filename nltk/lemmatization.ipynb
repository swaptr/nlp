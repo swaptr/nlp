{
 "cells": [
  {
   "cell_type": "markdown",
   "id": "06116866-10f6-4e2a-8f4f-1ef4ff030536",
   "metadata": {},
   "source": [
    "# lemmatization\n",
    "Lemmatization is the process of reducing a word to its root form using Part of Speech (POS) and context as a base. Lemmatization studies the morphological, or structural, and contextual analysis of words.\n",
    "- walking --> walk\n",
    "- walks --> walk\n",
    "- walked --> walk"
   ]
  },
  {
   "cell_type": "code",
   "execution_count": 2,
   "id": "2783eae3-a9dc-437f-b111-26d0ef38cdc2",
   "metadata": {},
   "outputs": [],
   "source": [
    "import nltk\n",
    "from nltk.stem import WordNetLemmatizer"
   ]
  },
  {
   "cell_type": "code",
   "execution_count": 3,
   "id": "16f8c1c3-879f-46fb-adae-1974225db1ef",
   "metadata": {},
   "outputs": [
    {
     "name": "stderr",
     "output_type": "stream",
     "text": [
      "[nltk_data] Downloading package wordnet to /home/swapnil/nltk_data...\n",
      "[nltk_data]   Package wordnet is already up-to-date!\n",
      "[nltk_data] Downloading package omw-1.4 to /home/swapnil/nltk_data...\n",
      "[nltk_data]   Package omw-1.4 is already up-to-date!\n"
     ]
    },
    {
     "data": {
      "text/plain": [
       "True"
      ]
     },
     "execution_count": 3,
     "metadata": {},
     "output_type": "execute_result"
    }
   ],
   "source": [
    "nltk.download(\"wordnet\")\n",
    "nltk.download(\"omw-1.4\")"
   ]
  },
  {
   "cell_type": "code",
   "execution_count": 4,
   "id": "275b9509-d788-44af-80f2-4b2d526e984a",
   "metadata": {},
   "outputs": [],
   "source": [
    "words = [\"walking\", \"walked\", \"walks\", \"walker\", \"walkable\"]"
   ]
  },
  {
   "cell_type": "code",
   "execution_count": 5,
   "id": "589ef2df-ed7f-458c-8bf5-dc5b37779105",
   "metadata": {},
   "outputs": [
    {
     "name": "stdout",
     "output_type": "stream",
     "text": [
      "walking --> walking\n",
      "walked --> walked\n",
      "walks --> walk\n",
      "walker --> walker\n",
      "walkable --> walkable\n"
     ]
    }
   ],
   "source": [
    "lemmatizer = WordNetLemmatizer()\n",
    "for word in words:\n",
    "    print(f\"{word} --> {lemmatizer.lemmatize(word)}\")"
   ]
  }
 ],
 "metadata": {
  "kernelspec": {
   "display_name": "Data Science",
   "language": "python",
   "name": "data_science"
  },
  "language_info": {
   "codemirror_mode": {
    "name": "ipython",
    "version": 3
   },
   "file_extension": ".py",
   "mimetype": "text/x-python",
   "name": "python",
   "nbconvert_exporter": "python",
   "pygments_lexer": "ipython3",
   "version": "3.11.3"
  }
 },
 "nbformat": 4,
 "nbformat_minor": 5
}

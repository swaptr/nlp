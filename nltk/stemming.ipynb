{
 "cells": [
  {
   "cell_type": "markdown",
   "id": "a7fedb11-c383-4d3f-afa5-58c6544f485d",
   "metadata": {},
   "source": [
    "# stemming"
   ]
  },
  {
   "cell_type": "markdown",
   "id": "402a21fc-75c6-432f-b63e-781b0a09e55b",
   "metadata": {},
   "source": [
    "Stemming is the process of reducing a word to its stem form.\n",
    "- likes --> like\n",
    "- liked --> like\n",
    "- likely --> like\n",
    "- liking --> like\n",
    "\n",
    "Types of Stemming:\n",
    "- Porter Stemmer\n",
    "- Snowball Stemmer\n",
    "- Lancaster Stemmer"
   ]
  },
  {
   "cell_type": "code",
   "execution_count": 16,
   "id": "ddde94cb-a8a9-4adf-98ca-14f021a0090d",
   "metadata": {},
   "outputs": [],
   "source": [
    "import nltk\n",
    "words = [\"walking\", \"walked\", \"walks\", \"walker\", \"walkable\"]"
   ]
  },
  {
   "cell_type": "code",
   "execution_count": 9,
   "id": "647c3f75-7b53-498e-97bb-bf4a53a8595f",
   "metadata": {},
   "outputs": [
    {
     "name": "stdout",
     "output_type": "stream",
     "text": [
      "walking --> walk\n",
      "walked --> walk\n",
      "walks --> walk\n",
      "walker --> walker\n",
      "walkable --> walkabl\n"
     ]
    }
   ],
   "source": [
    "# Porter Stemmer\n",
    "from nltk.stem import PorterStemmer\n",
    "porter_stemmer = PorterStemmer()\n",
    "\n",
    "for word in words:\n",
    "    print(f\"{word} --> {porter_stemmer.stem(word)}\")"
   ]
  },
  {
   "cell_type": "code",
   "execution_count": 10,
   "id": "ab7c07de-41c5-4226-b178-62d1bbf2d23a",
   "metadata": {},
   "outputs": [
    {
     "name": "stdout",
     "output_type": "stream",
     "text": [
      "walking --> walk\n",
      "walked --> walk\n",
      "walks --> walk\n",
      "walker --> walker\n",
      "walkable --> walkabl\n"
     ]
    }
   ],
   "source": [
    "# Porter Stemmer\n",
    "from nltk.stem import SnowballStemmer\n",
    "snowball_stemmer = SnowballStemmer(language=\"english\")\n",
    "\n",
    "for word in words:\n",
    "    print(f\"{word} --> {snowball_stemmer.stem(word)}\")"
   ]
  },
  {
   "cell_type": "code",
   "execution_count": 12,
   "id": "9ef22131-dcac-49ea-a6fd-7e013328b08d",
   "metadata": {},
   "outputs": [
    {
     "name": "stdout",
     "output_type": "stream",
     "text": [
      "walking --> walk\n",
      "walked --> walk\n",
      "walks --> walk\n",
      "walker --> walk\n",
      "walkable --> walk\n"
     ]
    }
   ],
   "source": [
    "# Lancaster Stemmer\n",
    "from nltk.stem import LancasterStemmer\n",
    "lancaster_stemmer = LancasterStemmer()\n",
    "\n",
    "for word in words:\n",
    "    print(f\"{word} --> {lancaster_stemmer.stem(word)}\")"
   ]
  },
  {
   "cell_type": "code",
   "execution_count": 13,
   "id": "44db8861-737e-44d9-8e50-a9c141cbdef2",
   "metadata": {},
   "outputs": [
    {
     "name": "stdout",
     "output_type": "stream",
     "text": [
      "walking --> walk\n",
      "walked --> walk\n",
      "walks --> walk\n",
      "walker --> walk\n",
      "walkable --> walk\n"
     ]
    }
   ],
   "source": [
    "# Regexp Stemmer\n",
    "from nltk.stem import RegexpStemmer\n",
    "regexp_stemmer = RegexpStemmer('ing|s$|able$', min=4)\n",
    "\n",
    "for word in words:\n",
    "    print(f\"{word} --> {lancaster_stemmer.stem(word)}\")"
   ]
  }
 ],
 "metadata": {
  "kernelspec": {
   "display_name": "Data Science",
   "language": "python",
   "name": "data_science"
  },
  "language_info": {
   "codemirror_mode": {
    "name": "ipython",
    "version": 3
   },
   "file_extension": ".py",
   "mimetype": "text/x-python",
   "name": "python",
   "nbconvert_exporter": "python",
   "pygments_lexer": "ipython3",
   "version": "3.11.3"
  }
 },
 "nbformat": 4,
 "nbformat_minor": 5
}
